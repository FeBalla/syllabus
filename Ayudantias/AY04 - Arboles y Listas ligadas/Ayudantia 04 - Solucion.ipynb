{
 "cells": [
  {
   "cell_type": "markdown",
   "metadata": {},
   "source": [
    "### Actividad 128, IIC2233 - 2063.1 - Form: https://forms.gle/vAz7o3Etsh427bKv5\n",
    "\n",
    "El málvado doctor Herny publicó un archivo malicioso ~~llamado enunciado_tarea.pdf~~, que borraba por completo no solo los datos guardados en los computadores de los afectados, si no también el propio sistmea de almacenamiento de archivos y será tu misión como alumno de IIC2233 ayudar a restaurarlo!"
   ]
  },
  {
   "cell_type": "markdown",
   "metadata": {},
   "source": [
    "### Funcionalidades\n",
    "El sistema de información que crees debe estar basado en estructuras nodales, debe ser capaz de almacenar archivos con sus respectivos nombres y pesos y debe ser además implementar los siguientes comandos:\n",
    "\n",
    "* ls: muestra la lista de archivos/carpetas dentro de la carpeta actual\n",
    "* cd: cambia de directorio\n",
    "* pwd: muestra el path al directorio actual\n",
    "* mkdir: crea un nuevo directorio\n",
    "* rm: elimina un archivo/directorio\n",
    "* size: retorna el tamaño de la carpeta en KB\n"
   ]
  },
  {
   "cell_type": "code",
   "execution_count": null,
   "metadata": {},
   "outputs": [],
   "source": [
    "class Folder:\n",
    "    def __init__(self, name, size=0, parent_folder=None, sub_folders=None, is_folder=True):\n",
    "        self.name = name\n",
    "        self._size = size\n",
    "        self.parent_folder = parent_folder\n",
    "        self.sub_folders = list() if not sub_folders else sub_folders\n",
    "        self.is_folder = is_folder\n",
    "        \n",
    "    @property\n",
    "    def size(self):\n",
    "        if not self.is_folder or not self.sub_folders:\n",
    "            return self._size\n",
    "        else:\n",
    "            return sum((folder.size for folder in self.sub_folders))\n",
    "        \n",
    "    def mkdir(self, name, size, is_folder=True):\n",
    "        self.sub_folders.append(Folder(name, size, parent_folder=self, is_folder=True))\n",
    "        \n",
    "    def pwd(self):\n",
    "        if self.parent_folder:\n",
    "            return pwd(self.parent_folder) + f'/{self.name}'\n",
    "        else:\n",
    "            return f'/{self.name}'\n",
    "\n",
    "    def ls(self):\n",
    "        folder_list = [f.name for f in self.sub_folders] if self.sub_folders else ''\n",
    "        return folder_list\n",
    "\n",
    "    def cd(self, folder_name):\n",
    "        folder_list = self.ls()\n",
    "        if folder_list and folder_name in folder_list:\n",
    "            return self.sub_folders[folder_list.index(folder_name)]\n",
    "        else:\n",
    "            return None    \n",
    "\n",
    "    def rm(self, folder_name):\n",
    "        folder = self.cd(folder_name)\n",
    "        if folder:\n",
    "            self.sub_folders.remove(folder)\n",
    "\n",
    "# MAIN CODE -\n",
    "current_folder = Folder('root', 0)\n",
    "current_folder.mkdir('user', 0)\n",
    "current_folder.mkdir('lib', 0)\n",
    "\n",
    "print(current_folder.pwd())\n",
    "print(current_folder.ls())\n",
    "print(current_folder.size)\n",
    "\n",
    "\n",
    "current_folder = current_folder.cd('user')\n",
    "current_folder.mkdir('ayudantia.txt', 500)\n",
    "current_folder.mkdir('jeje.csv', 500)\n",
    "\n",
    "print(current_folder.pwd())\n",
    "print(current_folder.ls())\n",
    "print(current_folder.size)\n",
    "\n",
    "\n",
    "current_folder.rm('ayudantia.txt')\n",
    "print(current_folder.pwd())\n",
    "print(current_folder.ls())\n",
    "print(current_folder.size)"
   ]
  }
 ],
 "metadata": {
  "kernelspec": {
   "display_name": "Python 3",
   "language": "python",
   "name": "python3"
  },
  "language_info": {
   "codemirror_mode": {
    "name": "ipython",
    "version": 3
   },
   "file_extension": ".py",
   "mimetype": "text/x-python",
   "name": "python",
   "nbconvert_exporter": "python",
   "pygments_lexer": "ipython3",
   "version": "3.6.4"
  }
 },
 "nbformat": 4,
 "nbformat_minor": 2
}
